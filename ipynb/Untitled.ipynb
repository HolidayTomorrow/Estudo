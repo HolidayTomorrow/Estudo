{
 "cells": [
  {
   "cell_type": "code",
   "execution_count": 5,
   "id": "3631ffe8-4398-408d-b011-535f6546af64",
   "metadata": {},
   "outputs": [],
   "source": [
    "import numpy as np"
   ]
  },
  {
   "cell_type": "code",
   "execution_count": 6,
   "id": "0cd30c22-1086-449d-81cb-a4be9c7cf578",
   "metadata": {},
   "outputs": [],
   "source": [
    "data = [np.random.standard_normal() for i in range(7)]"
   ]
  },
  {
   "cell_type": "code",
   "execution_count": 7,
   "id": "84df4bab-3e25-403c-ae59-a4eefeea2390",
   "metadata": {},
   "outputs": [
    {
     "data": {
      "text/plain": [
       "[0.24215871679978676,\n",
       " 0.26588326500063386,\n",
       " -1.7316579890126709,\n",
       " 0.10920180898308857,\n",
       " 1.6133902377028944,\n",
       " -0.6343099359588114,\n",
       " -1.4948215721241247]"
      ]
     },
     "execution_count": 7,
     "metadata": {},
     "output_type": "execute_result"
    }
   ],
   "source": [
    "data"
   ]
  },
  {
   "cell_type": "code",
   "execution_count": 8,
   "id": "4d547927-1c0c-4bae-afeb-9ca1cab0a434",
   "metadata": {},
   "outputs": [
    {
     "ename": "SyntaxError",
     "evalue": "invalid syntax (2754852469.py, line 1)",
     "output_type": "error",
     "traceback": [
      "\u001b[1;36m  Cell \u001b[1;32mIn[8], line 1\u001b[1;36m\u001b[0m\n\u001b[1;33m    an<tab>\u001b[0m\n\u001b[1;37m           ^\u001b[0m\n\u001b[1;31mSyntaxError\u001b[0m\u001b[1;31m:\u001b[0m invalid syntax\n"
     ]
    }
   ],
   "source": []
  },
  {
   "cell_type": "code",
   "execution_count": null,
   "id": "e8fd6628-58ff-498f-9756-63a1f5c6c69b",
   "metadata": {},
   "outputs": [],
   "source": [
    "a"
   ]
  }
 ],
 "metadata": {
  "kernelspec": {
   "display_name": "Python 3 (ipykernel)",
   "language": "python",
   "name": "python3"
  },
  "language_info": {
   "codemirror_mode": {
    "name": "ipython",
    "version": 3
   },
   "file_extension": ".py",
   "mimetype": "text/x-python",
   "name": "python",
   "nbconvert_exporter": "python",
   "pygments_lexer": "ipython3",
   "version": "3.12.7"
  }
 },
 "nbformat": 4,
 "nbformat_minor": 5
}
